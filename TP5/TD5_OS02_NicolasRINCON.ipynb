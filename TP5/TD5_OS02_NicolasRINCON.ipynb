{
  "nbformat": 4,
  "nbformat_minor": 0,
  "metadata": {
    "colab": {
      "provenance": []
    },
    "kernelspec": {
      "name": "python3",
      "display_name": "Python 3"
    },
    "language_info": {
      "name": "python"
    },
    "accelerator": "GPU"
  },
  "cells": [
    {
      "cell_type": "markdown",
      "source": [
        "**TD5 - OS02**\n",
        "\n",
        "***Nicolas RINCON***"
      ],
      "metadata": {
        "id": "SmeBnOGc9JUf"
      }
    },
    {
      "cell_type": "markdown",
      "metadata": {
        "id": "etdu6cUmeDmX"
      },
      "source": [
        "# Configurer votre colab pour le calcul sur GPU\n",
        "Dans le menu au dessus, choisir le sous-menu **Exécution** puis l'option **Modifier le type d'exécution**.\n",
        "\n",
        "Une fenêtre apparaît où vous pouvez choisir un accélérateur matériel. Choisissez un *GPU* puis *enregistrer* votre choix.\n",
        "\n",
        "Afin de vérifier que vous avez bien configuré votre session pour utiliser un GPU, exécuter le code ci-dessous (en passant la souris, une petite flèche pour l'exécuter apparaît).\n",
        "\n",
        "Si tout se passe bien, un tableau (en ascii) apparaît avec le type de carte (et son architecture) auquel vous avez accès. Si un message d'erreur apparaît, vérifiez dans **Modifier le type d'exécution** que l'accélérateur matériel est bien configuré pour un *GPU*"
      ]
    },
    {
      "cell_type": "code",
      "metadata": {
        "colab": {
          "base_uri": "https://localhost:8080/"
        },
        "id": "AisG7sW_bImi",
        "outputId": "3fde00c0-7894-45b2-c87b-2189f806bfb1"
      },
      "source": [
        "!nvidia-smi"
      ],
      "execution_count": 1,
      "outputs": [
        {
          "output_type": "stream",
          "name": "stdout",
          "text": [
            "Sat Mar 15 03:52:58 2025       \n",
            "+-----------------------------------------------------------------------------------------+\n",
            "| NVIDIA-SMI 550.54.15              Driver Version: 550.54.15      CUDA Version: 12.4     |\n",
            "|-----------------------------------------+------------------------+----------------------+\n",
            "| GPU  Name                 Persistence-M | Bus-Id          Disp.A | Volatile Uncorr. ECC |\n",
            "| Fan  Temp   Perf          Pwr:Usage/Cap |           Memory-Usage | GPU-Util  Compute M. |\n",
            "|                                         |                        |               MIG M. |\n",
            "|=========================================+========================+======================|\n",
            "|   0  Tesla T4                       Off |   00000000:00:04.0 Off |                    0 |\n",
            "| N/A   46C    P8             10W /   70W |       0MiB /  15360MiB |      0%      Default |\n",
            "|                                         |                        |                  N/A |\n",
            "+-----------------------------------------+------------------------+----------------------+\n",
            "                                                                                         \n",
            "+-----------------------------------------------------------------------------------------+\n",
            "| Processes:                                                                              |\n",
            "|  GPU   GI   CI        PID   Type   Process name                              GPU Memory |\n",
            "|        ID   ID                                                               Usage      |\n",
            "|=========================================================================================|\n",
            "|  No running processes found                                                             |\n",
            "+-----------------------------------------------------------------------------------------+\n"
          ]
        }
      ]
    },
    {
      "cell_type": "markdown",
      "metadata": {
        "id": "lKT2rlVxgil3"
      },
      "source": [
        "# Installation de PyCuda\n",
        "\n",
        "Pour utiliser le GPU sous Python il faut soit installer **PyCuda** pour effectuer des calculs, soit **PyTorch** pour effectuer du machine learning accéléré par les GPUs.\n",
        "\n",
        "Dans ce TP, nous nous bornerons uniquement à effectuer des calculs sur GPU !\n",
        "\n",
        "Pour cela, il faut d'abord installer pyCuda et donc exécuter le code ci-dessous (toujours en appuyant sur la flèche pour exécuter le code, et attendez, cela prend un petit moment...)"
      ]
    },
    {
      "cell_type": "code",
      "metadata": {
        "colab": {
          "base_uri": "https://localhost:8080/"
        },
        "id": "juIs9Ostgkoc",
        "outputId": "0fa44f1b-715c-4f62-bbb8-99c7aabeaa0f"
      },
      "source": [
        "!pip install pycuda"
      ],
      "execution_count": 2,
      "outputs": [
        {
          "output_type": "stream",
          "name": "stdout",
          "text": [
            "Collecting pycuda\n",
            "  Downloading pycuda-2025.1.tar.gz (1.7 MB)\n",
            "\u001b[?25l     \u001b[90m━━━━━━━━━━━━━━━━━━━━━━━━━━━━━━━━━━━━━━━━\u001b[0m \u001b[32m0.0/1.7 MB\u001b[0m \u001b[31m?\u001b[0m eta \u001b[36m-:--:--\u001b[0m\r\u001b[2K     \u001b[91m━━━━━━━━━━━━━━━━━━━━━━━━━━━━━━━━━━━━━━━\u001b[0m\u001b[91m╸\u001b[0m \u001b[32m1.7/1.7 MB\u001b[0m \u001b[31m107.6 MB/s\u001b[0m eta \u001b[36m0:00:01\u001b[0m\r\u001b[2K     \u001b[90m━━━━━━━━━━━━━━━━━━━━━━━━━━━━━━━━━━━━━━━━\u001b[0m \u001b[32m1.7/1.7 MB\u001b[0m \u001b[31m45.7 MB/s\u001b[0m eta \u001b[36m0:00:00\u001b[0m\n",
            "\u001b[?25h  Installing build dependencies ... \u001b[?25l\u001b[?25hdone\n",
            "  Getting requirements to build wheel ... \u001b[?25l\u001b[?25hdone\n",
            "  Preparing metadata (pyproject.toml) ... \u001b[?25l\u001b[?25hdone\n",
            "Collecting pytools>=2011.2 (from pycuda)\n",
            "  Downloading pytools-2025.1.1-py3-none-any.whl.metadata (3.0 kB)\n",
            "Requirement already satisfied: platformdirs>=2.2.0 in /usr/local/lib/python3.11/dist-packages (from pycuda) (4.3.6)\n",
            "Collecting mako (from pycuda)\n",
            "  Downloading Mako-1.3.9-py3-none-any.whl.metadata (2.9 kB)\n",
            "Requirement already satisfied: typing-extensions>=4.5 in /usr/local/lib/python3.11/dist-packages (from pytools>=2011.2->pycuda) (4.12.2)\n",
            "Requirement already satisfied: MarkupSafe>=0.9.2 in /usr/local/lib/python3.11/dist-packages (from mako->pycuda) (3.0.2)\n",
            "Downloading pytools-2025.1.1-py3-none-any.whl (92 kB)\n",
            "\u001b[2K   \u001b[90m━━━━━━━━━━━━━━━━━━━━━━━━━━━━━━━━━━━━━━━━\u001b[0m \u001b[32m92.8/92.8 kB\u001b[0m \u001b[31m9.3 MB/s\u001b[0m eta \u001b[36m0:00:00\u001b[0m\n",
            "\u001b[?25hDownloading Mako-1.3.9-py3-none-any.whl (78 kB)\n",
            "\u001b[2K   \u001b[90m━━━━━━━━━━━━━━━━━━━━━━━━━━━━━━━━━━━━━━━━\u001b[0m \u001b[32m78.5/78.5 kB\u001b[0m \u001b[31m7.5 MB/s\u001b[0m eta \u001b[36m0:00:00\u001b[0m\n",
            "\u001b[?25hBuilding wheels for collected packages: pycuda\n",
            "  Building wheel for pycuda (pyproject.toml) ... \u001b[?25l\u001b[?25hdone\n",
            "  Created wheel for pycuda: filename=pycuda-2025.1-cp311-cp311-linux_x86_64.whl size=660393 sha256=ab97f12bdedc7563be39871942171187638abc96a4a9a8c04fee8eca9ecc96f4\n",
            "  Stored in directory: /root/.cache/pip/wheels/77/7e/6c/d2d1451ea6424cdc3d67b36c16fa7111eafdf2034bc3405666\n",
            "Successfully built pycuda\n",
            "Installing collected packages: pytools, mako, pycuda\n",
            "Successfully installed mako-1.3.9 pycuda-2025.1 pytools-2025.1.1\n"
          ]
        }
      ]
    },
    {
      "cell_type": "markdown",
      "metadata": {
        "id": "qudDlvJtlFvM"
      },
      "source": [
        "# Vérification du bon fonctionnement du module PyCuda\n",
        "\n",
        "Afin de vérifier le bon fonctionnement de l'installation, nous allons écrire un script Cuda qui servira en même temps d'exemple pour le TP d'aujourd'hui. Ce script sera scindé en plusieurs morceaux et commenté pour que vous compreniez chaque partie du code.\n",
        "\n",
        "Ce code sera très simple : on va créer une matrice 4x4 avec des données prises \"au hasard\" (mais avec une graine aléatoire fixée, donc...) , recopier ce tableau dans la mémoire de la carte graphique et demander à la carte graphique de doubler la valeur de chaque élément de la matrice puis de recopier dans la mémoire de l'ordinateur les valeurs calculées. On affiche ensuite la matrice initiale et la matrice transformée.\n",
        "\n",
        "Dans un premier temps, chargeons les modules python nécessaire à l'exécution d'un noyau Cuda (**Remarque** : l'importation de ces modules n'est nécessaire qu'une seule fois pour **TOUTE** la session. Il sera donc inutile de reimporter ces modules dans le reste du TD !) :"
      ]
    },
    {
      "cell_type": "code",
      "metadata": {
        "id": "oqWKO6k_mw45"
      },
      "source": [
        "import pycuda.driver as cuda\n",
        "import pycuda.autoinit\n",
        "from pycuda.compiler import SourceModule"
      ],
      "execution_count": 3,
      "outputs": []
    },
    {
      "cell_type": "markdown",
      "metadata": {
        "id": "aDlqPZFGm1mH"
      },
      "source": [
        "Créons à l'aide de numpy un tableau *a* dont les valeurs aléatoires sont issues d'une graine fixée :"
      ]
    },
    {
      "cell_type": "code",
      "source": [
        "import numpy"
      ],
      "metadata": {
        "id": "A7ZxHvHRjA_m"
      },
      "execution_count": 4,
      "outputs": []
    },
    {
      "cell_type": "code",
      "metadata": {
        "id": "eHjGxA72nD5Q"
      },
      "source": [
        "numpy.random.seed(1729)\n",
        "a = numpy.random.randn(4,4) # Sous forme de matrice 4 x 4"
      ],
      "execution_count": 5,
      "outputs": []
    },
    {
      "cell_type": "markdown",
      "metadata": {
        "id": "PB_UhGnJnL0H"
      },
      "source": [
        "Puisque certaines cartes graphiques supportent mal le double précision, nous allons demander à Python que les éléments de *a* soient en simple précision :"
      ]
    },
    {
      "cell_type": "code",
      "metadata": {
        "id": "BN3tt27lnZYf",
        "colab": {
          "base_uri": "https://localhost:8080/"
        },
        "outputId": "88909233-8629-4718-ea60-7d6575037f53"
      },
      "source": [
        "a = a.astype(numpy.float32)\n",
        "print(a.nbytes)"
      ],
      "execution_count": 6,
      "outputs": [
        {
          "output_type": "stream",
          "name": "stdout",
          "text": [
            "64\n"
          ]
        }
      ]
    },
    {
      "cell_type": "markdown",
      "metadata": {
        "id": "bFvuQK_wnccf"
      },
      "source": [
        "**Nous allons ensuite allouer de la place mémoire sur la mémoire vive du GPU. Comme en C, la place mémoire est exprimée en *Octets* : /**"
      ]
    },
    {
      "cell_type": "code",
      "metadata": {
        "id": "5WXc0_Q8nqw3"
      },
      "source": [
        "a_gpu = cuda.mem_alloc(a.nbytes)"
      ],
      "execution_count": 7,
      "outputs": []
    },
    {
      "cell_type": "markdown",
      "metadata": {
        "id": "LqIHO5oYnugQ"
      },
      "source": [
        "Une fois la réservation sur le GPU de faite, on recopie les valeurs de *a* dans le tableau *a_gpu* que l'on vient de réserver (htod signifie host **to** device):"
      ]
    },
    {
      "cell_type": "code",
      "metadata": {
        "id": "JMiVGjKEoAJJ"
      },
      "source": [
        "cuda.memcpy_htod(a_gpu, a)"
      ],
      "execution_count": 8,
      "outputs": []
    },
    {
      "cell_type": "markdown",
      "metadata": {
        "id": "G2EIIhLwoDLY"
      },
      "source": [
        "Il faut ensuite écrire le noyau qui s'exécutera sur la carte graphique à l'aide du langage CUDA (qui est une extension du langage C).\n",
        "\n",
        "**Remarquez** dans le code qu'on s'assure que les indices donnés par les numéros de threads ne dépassent pas la dimension de la matrice !"
      ]
    },
    {
      "cell_type": "code",
      "metadata": {
        "id": "p_uaN7JNok9-"
      },
      "source": [
        "mod = SourceModule(\"\"\"\n",
        "__global__ void doublify( int dim_x, int dim_y, float *a )\n",
        "{\n",
        "  if ((threadIdx.x < dim_x) && (threadIdx.y < dim_y))\n",
        "  {\n",
        "    int idx = threadIdx.x + threadIdx.y * dim_x;\n",
        "    a[idx] *= 2;\n",
        "  }\n",
        "}\n",
        "\"\"\")"
      ],
      "execution_count": 9,
      "outputs": []
    },
    {
      "cell_type": "markdown",
      "metadata": {
        "id": "IqsGbd-LqAlF"
      },
      "source": [
        "Nous allons récupérer ensuite un \"handle\" sur le noyau cuda que l'on vient de créer (en invoquant le nom de la fonction) et l'invoquer sur la carte graphique en dimensionnant la grille de calcul à l'aide de *block=(4,4,1)* (et en l'adaptant aux dimensions de la matrice).\n",
        "\n",
        "Ici, nous n'avons pas besoin de configurer de grilles car la dimension de la matrice *a* est petite, mais comme la taille d'un bloc dans une direction est limitée à 256, pour des cas plus gros, il faudra également passer une grille en paramètre à l'aide de *grid=(x,y,z)* où *x,y* et *z* sont des valeurs entières positives et utiliser dans le noyau cuda les valeurs *x,y* et *z* de **blockIdx** et **blockDim**.\n",
        "\n",
        "**REMARQUE IMPORTANTE** : Le noyau cuda ne veut que des types C basiques en argument. Or un entier python est tout sauf un type basique du C. Donc pour passer un argument entier à un noyau cuda, il faut créer un entier 32 bits à l'aide de numpy.int32"
      ]
    },
    {
      "cell_type": "code",
      "metadata": {
        "id": "QW9-l0XaqSuH"
      },
      "source": [
        "func = mod.get_function(\"doublify\")\n",
        "dim = numpy.int32(4)\n",
        "func(dim, dim, a_gpu, block=(4,4,1))"
      ],
      "execution_count": 10,
      "outputs": []
    },
    {
      "cell_type": "markdown",
      "metadata": {
        "id": "tbE0Dg-7qRlt"
      },
      "source": [
        "Il ne reste plus qu'à récupérer les nouvelles valeurs de la matrice en transférant les données de la matrice contenue par le GPU dans un tableau numpy se trouvant dans la RAM de l'ordinateur (dtoh signifie device **to** host) :"
      ]
    },
    {
      "cell_type": "code",
      "metadata": {
        "id": "Dt77Pr7JqrPU"
      },
      "source": [
        "a_doubled = numpy.empty_like(a)\n",
        "cuda.memcpy_dtoh(a_doubled, a_gpu)"
      ],
      "execution_count": 11,
      "outputs": []
    },
    {
      "cell_type": "markdown",
      "metadata": {
        "id": "aCEHT9OMwLCl"
      },
      "source": [
        "Il ne reste plus qu'à afficher la matrice initiale puis la matrice obtenue par le calcul sur GPU :"
      ]
    },
    {
      "cell_type": "code",
      "metadata": {
        "colab": {
          "base_uri": "https://localhost:8080/"
        },
        "id": "s7-qzHVFwP9R",
        "outputId": "5e4b511f-c694-4cde-9285-fa87bd2f343a"
      },
      "source": [
        "print(f\"a : {a}\")\n",
        "print(f\"a_gpu : {a_doubled}\")"
      ],
      "execution_count": 12,
      "outputs": [
        {
          "output_type": "stream",
          "name": "stdout",
          "text": [
            "a : [[-0.6873394  -0.82099473  1.6523609  -0.57529306]\n",
            " [ 1.0989678   0.92594606 -0.9934138  -0.8582211 ]\n",
            " [ 0.07488676  0.5293555   0.12095155 -0.22442362]\n",
            " [-1.5566785   0.05594088  0.16147153 -2.1346416 ]]\n",
            "a_gpu : [[-1.3746789  -1.6419895   3.3047218  -1.1505861 ]\n",
            " [ 2.1979356   1.8518921  -1.9868276  -1.7164422 ]\n",
            " [ 0.14977352  1.058711    0.2419031  -0.44884723]\n",
            " [-3.113357    0.11188176  0.32294306 -4.2692833 ]]\n"
          ]
        }
      ]
    },
    {
      "cell_type": "markdown",
      "metadata": {
        "id": "loEHbBbLwxwg"
      },
      "source": [
        "## Exercices de mises en bouche\n",
        "\n",
        "En vous inspirant du programme commenté ci-dessus, écrivez un code avec un noyau Cuda qui fait la somme de deux vecteurs de réels simples précisions et qui range le résultat dans un troisième vecteur.\n",
        "\n",
        "On s'exercera à utiliser des vecteurs de \"grandes\" dimensions (> 256) afin de s'entrainer à calculer des indices globaux dans le noyau cuda à l'aide de *threadIdx.x*, *blockIdx.x* et *dimBlock.x*.\n",
        "\n",
        "Ecrivez (ou copier coller) votre code dans la cellule ci-dessous"
      ]
    },
    {
      "cell_type": "code",
      "metadata": {
        "id": "MdP6BpWQyDyx",
        "colab": {
          "base_uri": "https://localhost:8080/"
        },
        "outputId": "d7fcf75d-4963-4710-fa22-bd2fee592122"
      },
      "source": [
        "v_size = 512\n",
        "\n",
        "# two random vectors\n",
        "v_a = numpy.random.randn(v_size).astype(numpy.float32)\n",
        "v_b = numpy.random.randn(v_size).astype(numpy.float32)\n",
        "\n",
        "print(v_a.nbytes, v_b.nbytes)"
      ],
      "execution_count": 13,
      "outputs": [
        {
          "output_type": "stream",
          "name": "stdout",
          "text": [
            "2048 2048\n"
          ]
        }
      ]
    },
    {
      "cell_type": "code",
      "source": [
        "v_a_gpu = cuda.mem_alloc(v_a.nbytes)\n",
        "v_b_gpu = cuda.mem_alloc(v_b.nbytes)\n",
        "v_result_gpu = cuda.mem_alloc(v_b.nbytes)\n",
        "\n",
        "cuda.memcpy_htod(v_a_gpu, v_a)\n",
        "cuda.memcpy_htod(v_b_gpu, v_b)"
      ],
      "metadata": {
        "id": "4xtij2Yidr3R"
      },
      "execution_count": 14,
      "outputs": []
    },
    {
      "cell_type": "code",
      "source": [
        "mod = SourceModule(\"\"\"\n",
        "__global__ void vector_add(const float *v_a, const float *v_b, float *v_result, int size)\n",
        "{\n",
        "  int i = blockIdx.x * blockDim.x + threadIdx.x;\n",
        "  if (i < size) {\n",
        "    v_result[i] = v_a[i] + v_b[i];\n",
        "  }\n",
        "}\n",
        "\"\"\")\n"
      ],
      "metadata": {
        "id": "AXOoKe3ne9tS"
      },
      "execution_count": 15,
      "outputs": []
    },
    {
      "cell_type": "code",
      "source": [
        "func = mod.get_function(\"vector_add\")\n",
        "\n",
        "threads_per_block = 256\n",
        "blocks_per_grid = (v_size + threads_per_block - 1) // threads_per_block  # division\n",
        "\n",
        "# Launch the kernel\n",
        "func(v_a_gpu, v_b_gpu, v_result_gpu, numpy.int32(v_size),\n",
        "     block=(threads_per_block, 1, 1), grid=(blocks_per_grid, 1, 1))\n",
        "\n",
        "# Synchronize to ensure execution finishes\n",
        "cuda.Context.synchronize()\n",
        "\n",
        "# Retrieve results from GPU\n",
        "v_result = numpy.empty_like(v_a)\n",
        "cuda.memcpy_dtoh(v_result, v_result_gpu)\n",
        "\n",
        "# Print first few results\n",
        "print(\"\\nFirst 10 elements vector a:\")\n",
        "print(v_a[:10])\n",
        "print(\"\\nFirst 10 elements vector b:\")\n",
        "print(v_b[:10])\n",
        "print(\"\\nFirst 10 results:\")\n",
        "print(v_result[:10])\n",
        "\n",
        "# Evaluation\n",
        "expected_result = v_a + v_b\n",
        "print(\"\\nValidation, difference between CPU and GPU results:\")\n",
        "print(numpy.max(numpy.abs(v_result - expected_result)))"
      ],
      "metadata": {
        "colab": {
          "base_uri": "https://localhost:8080/"
        },
        "id": "0aQjgITikQew",
        "outputId": "a6f1f2f5-23c3-47e0-af1a-cd81297108d5"
      },
      "execution_count": 20,
      "outputs": [
        {
          "output_type": "stream",
          "name": "stdout",
          "text": [
            "\n",
            "First 10 elements vector a:\n",
            "[ 0.10967004  0.44301215  0.39626622  0.2497974   1.2984973  -1.2804337\n",
            " -0.97546583 -0.26908663 -1.1057384  -0.1279927 ]\n",
            "\n",
            "First 10 elements vector b:\n",
            "[-2.1456625   1.5715445   0.41556802  0.80583733 -0.2029404  -0.16435274\n",
            "  1.0683212  -0.38769427 -0.0185411   1.6895839 ]\n",
            "\n",
            "First 10 results:\n",
            "[-2.0359926   2.0145566   0.8118342   1.0556347   1.095557   -1.4447864\n",
            "  0.09285539 -0.6567809  -1.1242795   1.5615911 ]\n",
            "\n",
            "Validation, difference between CPU and GPU results:\n",
            "0.0\n"
          ]
        }
      ]
    },
    {
      "cell_type": "markdown",
      "metadata": {
        "id": "esWwXhGMy8vJ"
      },
      "source": [
        "Une fois le code mis au point, recopiez le ci-dessous et adaptez le pour additionner deux matrices carrées dans une troisième."
      ]
    },
    {
      "cell_type": "code",
      "metadata": {
        "id": "lMAqLHVmzJbG",
        "colab": {
          "base_uri": "https://localhost:8080/"
        },
        "outputId": "b1979026-bbed-4c00-d076-574d47304f24"
      },
      "source": [
        "numpy.random.seed(1729)\n",
        "\n",
        "m_size = 256\n",
        "\n",
        "# two random matrix\n",
        "m_a = numpy.random.randn(m_size, m_size).astype(numpy.float32)\n",
        "m_b = numpy.random.randn(m_size, m_size).astype(numpy.float32)\n",
        "\n",
        "print(v_a.nbytes, v_b.nbytes)"
      ],
      "execution_count": 21,
      "outputs": [
        {
          "output_type": "stream",
          "name": "stdout",
          "text": [
            "2048 2048\n"
          ]
        }
      ]
    },
    {
      "cell_type": "code",
      "source": [
        "m_a_gpu = cuda.mem_alloc(m_a.nbytes)\n",
        "m_b_gpu = cuda.mem_alloc(m_b.nbytes)\n",
        "m_result_gpu = cuda.mem_alloc(m_b.nbytes)\n",
        "\n",
        "cuda.memcpy_htod(m_a_gpu, m_a)\n",
        "cuda.memcpy_htod(m_b_gpu, m_b)"
      ],
      "metadata": {
        "id": "tGs3IHLNoBVe"
      },
      "execution_count": 22,
      "outputs": []
    },
    {
      "cell_type": "code",
      "source": [
        "mod = SourceModule(\"\"\"\n",
        "__global__ void matrix_add(const float *m_a, const float *m_b, float *m_result, int width, int height)\n",
        "{\n",
        "  int row = blockIdx.y * blockDim.y + threadIdx.y;\n",
        "  int col = blockIdx.x * blockDim.x + threadIdx.x;\n",
        "\n",
        "  if (row < height && col < width) {\n",
        "    int index = row * width + col;\n",
        "    m_result[index] = m_a[index] + m_b[index];\n",
        "  }\n",
        "}\n",
        "\"\"\")"
      ],
      "metadata": {
        "id": "zK3FdbvtoAXu"
      },
      "execution_count": 23,
      "outputs": []
    },
    {
      "cell_type": "code",
      "source": [
        "func = mod.get_function(\"matrix_add\")\n",
        "\n",
        "# define block and grid sizes for 2D matrix computation\n",
        "block_dim = (16, 16, 1)  # 16x16 threads per block\n",
        "grid_dim = ((m_size + block_dim[0] - 1) // block_dim[0], (m_size + block_dim[1] - 1) // block_dim[1], 1)\n",
        "\n",
        "# CUDA\n",
        "func(m_a_gpu, m_b_gpu, m_result_gpu, numpy.int32(m_size), numpy.int32(m_size),\n",
        "     block=block_dim, grid=grid_dim)\n",
        "\n",
        "# Synchronize execution\n",
        "cuda.Context.synchronize()\n",
        "\n",
        "# results from GPU\n",
        "m_result = numpy.empty_like(m_a)\n",
        "cuda.memcpy_dtoh(m_result, m_result_gpu)\n",
        "\n",
        "# print first 5x5 elements\n",
        "print(\"\\nFirst 5x5 elements of matrix a:\")\n",
        "print(m_a[:5, :5])\n",
        "print(\"\\nFirst 5x5 elements of matrix b:\")\n",
        "print(m_b[:5, :5])\n",
        "print(\"\\nFirst 5x5 elements of result matrix:\")\n",
        "print(m_result[:5, :5])\n",
        "\n",
        "# Evaluation\n",
        "expected_result = m_a + m_b\n",
        "print(\"\\nValidation, difference between CPU and GPU results:\")\n",
        "print(numpy.max(numpy.abs(m_result - expected_result)))"
      ],
      "metadata": {
        "colab": {
          "base_uri": "https://localhost:8080/"
        },
        "id": "URUX0skhonlc",
        "outputId": "ef2bb6d2-a855-49bb-81d9-9f042369fe47"
      },
      "execution_count": 25,
      "outputs": [
        {
          "output_type": "stream",
          "name": "stdout",
          "text": [
            "\n",
            "First 5x5 elements of matrix a:\n",
            "[[-0.6873394  -0.82099473  1.6523609  -0.57529306  1.0989678 ]\n",
            " [ 0.68927777  0.765571   -1.347792    0.96893597 -1.404455  ]\n",
            " [ 1.4556684  -0.56499404 -0.16375245 -0.55686605 -1.1985222 ]\n",
            " [-0.6554177  -0.5637793   0.59207183  0.6715623  -0.37337896]\n",
            " [-0.42274508 -1.6521232   1.6743261  -0.55894953 -0.43289557]]\n",
            "\n",
            "First 5x5 elements of matrix b:\n",
            "[[ 0.07392373  1.092923    0.1569538   0.8707926  -0.4135408 ]\n",
            " [-1.6302353  -1.4299247  -0.8355377  -0.36702165  1.0072615 ]\n",
            " [ 0.81189233  0.16980208 -0.6017068  -1.2001538  -1.3997432 ]\n",
            " [-1.5446231  -1.7404629  -0.05763256 -0.29479942  0.3863433 ]\n",
            " [-0.58373165  1.5358534   0.83268404  0.54442555 -0.29156062]]\n",
            "\n",
            "First 5x5 elements of result matrix:\n",
            "[[-0.6134157   0.2719283   1.8093147   0.29549956  0.68542695]\n",
            " [-0.94095755 -0.6643537  -2.1833296   0.6019143  -0.39719343]\n",
            " [ 2.2675607  -0.39519197 -0.76545924 -1.7570199  -2.5982654 ]\n",
            " [-2.2000408  -2.3042421   0.53443927  0.3767629   0.01296434]\n",
            " [-1.0064768  -0.11626983  2.50701    -0.01452398 -0.7244562 ]]\n",
            "\n",
            "Validation, difference between CPU and GPU results:\n",
            "0.0\n"
          ]
        }
      ]
    },
    {
      "cell_type": "markdown",
      "metadata": {
        "id": "_67yypc0yL0g"
      },
      "source": [
        "# Exercice final\n",
        "\n",
        "Nous allons de nouveau nous intéresser à l'ensemble de Mandelbrot. La cellule ci-dessous contient un code permettant de calculer à l'aide de numpy un ensemble de mandelbrot (le code est simplifié par rapport aux codes sur CPU pour faciliter le TP même si il utilise la notation vectorielle de numpy (il faudra y faire attention pour code le noyau cuda !) : code repris de https://stackoverflow.com/questions/60467316/displaying-mandelbrot-set-in-python-using-matplotlib-pyplot-and-numpy).\n",
        "\n",
        "Transformez le de sorte que sur GPU, chaque thread calcule un pixel de l'image de destination."
      ]
    },
    {
      "cell_type": "code",
      "metadata": {
        "colab": {
          "base_uri": "https://localhost:8080/",
          "height": 734
        },
        "id": "YcAhzA4Gzb51",
        "outputId": "74d6ceed-361e-42c4-bd7d-3f446b9f2f7e"
      },
      "source": [
        "import pylab as plt\n",
        "import numpy as np\n",
        "# initial values\n",
        "loop = 50 # number of interations\n",
        "div = 600 # divisions\n",
        "# all possible values of c\n",
        "c = np.linspace(-2,2,div)[:,np.newaxis] + 1j*np.linspace(-2,2,div)[np.newaxis,:]\n",
        "# array of ones of same dimensions as c\n",
        "ones = np.ones(np.shape(c), np.int32)\n",
        "# Array that will hold colors for plot, initial value set here will be\n",
        "# the color of the points in the mandelbrot set, i.e. where the series\n",
        "# converges.\n",
        "# For the code below to work, this initial value must at least be 'loop'.\n",
        "# Here it is loop + 5\n",
        "color = ones * loop + 5\n",
        "z = 0\n",
        "for n in range(0,loop):\n",
        "      z = z**2 + c\n",
        "      diverged = np.abs(z)>2\n",
        "      # Store value of n at which series was detected to diverge.\n",
        "      # The later the series is detected to diverge, the higher\n",
        "      # the 'color' value.\n",
        "      color[diverged] = np.minimum(color[diverged], ones[diverged]*n)\n",
        "\n",
        "plt.rcParams['figure.figsize'] = [12, 7.5]\n",
        "# contour plot with real and imaginary parts of c as axes\n",
        "# and colored according to 'color'\n",
        "plt.contourf(c.real, c.imag, color)\n",
        "plt.xlabel(\"Real($c$)\")\n",
        "plt.ylabel(\"Imag($c$)\")\n",
        "plt.xlim(-2,2)\n",
        "plt.ylim(-1.5,1.5)\n",
        "plt.savefig(\"plot.png\")\n",
        "plt.show()"
      ],
      "execution_count": 26,
      "outputs": [
        {
          "output_type": "stream",
          "name": "stderr",
          "text": [
            "<ipython-input-26-4675be1f5290>:18: RuntimeWarning: overflow encountered in square\n",
            "  z = z**2 + c\n",
            "<ipython-input-26-4675be1f5290>:18: RuntimeWarning: invalid value encountered in square\n",
            "  z = z**2 + c\n"
          ]
        },
        {
          "output_type": "display_data",
          "data": {
            "text/plain": [
              "<Figure size 1200x750 with 1 Axes>"
            ],
            "image/png": "[encoded data removed]"
          },
          "metadata": {}
        }
      ]
    },
    {
      "cell_type": "markdown",
      "source": [
        "\n",
        "\n",
        "---\n",
        "**CUDA**\n"
      ],
      "metadata": {
        "id": "39ApRml-t1RV"
      }
    },
    {
      "cell_type": "code",
      "source": [
        "# mage resolution and iteration count\n",
        "loop = 50\n",
        "div = 600\n",
        "\n",
        "# generate complex number grid\n",
        "c_real = numpy.linspace(-2, 2, div).astype(numpy.float32)\n",
        "c_imag = numpy.linspace(-2, 2, div).astype(numpy.float32)\n",
        "c_real, c_imag = numpy.meshgrid(c_real, c_imag)\n",
        "c = c_real + 1j * c_imag\n",
        "\n",
        "c_real = c_real.flatten()\n",
        "c_imag = c_imag.flatten()\n",
        "color = numpy.full(c_real.shape, loop + 5, dtype=numpy.int32)\n",
        "\n",
        "c_real_gpu = cuda.mem_alloc(c_real.nbytes)\n",
        "c_imag_gpu = cuda.mem_alloc(c_imag.nbytes)\n",
        "color_gpu = cuda.mem_alloc(color.nbytes)\n",
        "\n",
        "cuda.memcpy_htod(c_real_gpu, c_real)\n",
        "cuda.memcpy_htod(c_imag_gpu, c_imag)\n",
        "cuda.memcpy_htod(color_gpu, color)\n",
        "\n",
        "# CUDA Kernel: Compute Mandelbrot for each pixel\n",
        "mod = SourceModule(\"\"\"\n",
        "    __global__ void mandelbrot(float *c_real, float *c_imag, int *color, int loop, int size) {\n",
        "        int idx = blockIdx.x * blockDim.x + threadIdx.x;\n",
        "\n",
        "        if (idx < size) {\n",
        "            float real = c_real[idx];\n",
        "            float imag = c_imag[idx];\n",
        "            float zr = 0.0;\n",
        "            float zi = 0.0;\n",
        "            int n = 0;\n",
        "\n",
        "            while (n < loop && (zr * zr + zi * zi) < 4.0) {\n",
        "                float temp = zr * zr - zi * zi + real;\n",
        "                zi = 2.0 * zr * zi + imag;\n",
        "                zr = temp;\n",
        "                n++;\n",
        "            }\n",
        "\n",
        "            color[idx] = (n == loop) ? loop + 5 : n;\n",
        "        }\n",
        "    }\n",
        "\"\"\")\n",
        "\n",
        "func = mod.get_function(\"mandelbrot\")\n",
        "\n",
        "threads_per_block = 256\n",
        "blocks_per_grid = (c_real.size + threads_per_block - 1) // threads_per_block  # Ceiling division\n",
        "\n",
        "func(c_real_gpu, c_imag_gpu, color_gpu, np.int32(loop), np.int32(c_real.size),\n",
        "     block=(threads_per_block, 1, 1), grid=(blocks_per_grid, 1, 1))\n",
        "\n",
        "# sync to ensure execution finishes\n",
        "cuda.Context.synchronize()\n",
        "\n",
        "# copy results back to CPU\n",
        "cuda.memcpy_dtoh(color, color_gpu)\n",
        "\n",
        "color = color.reshape((div, div))\n",
        "\n",
        "# Plot the Mandelbrot set\n",
        "plt.figure(figsize=(12, 7.5))\n",
        "plt.contourf(np.linspace(-2, 2, div), np.linspace(-2, 2, div), color)\n",
        "plt.xlabel(\"Real($c$)\")\n",
        "plt.ylabel(\"Imaginary($c$)\")\n",
        "plt.xlim(-2, 2)\n",
        "plt.ylim(-2, 2)\n",
        "plt.show()\n"
      ],
      "metadata": {
        "id": "a8O_ZmmAt7wk",
        "colab": {
          "base_uri": "https://localhost:8080/",
          "height": 734
        },
        "outputId": "e0e65751-fcb9-4a06-c978-1e8b93373270"
      },
      "execution_count": 28,
      "outputs": [
        {
          "output_type": "stream",
          "name": "stderr",
          "text": [
            "/usr/local/lib/python3.11/dist-packages/google/colab/_variable_inspector.py:27: UserWarning: module in out-of-thread context could not be cleaned up\n",
            "  globals().clear()\n",
            "/usr/local/lib/python3.11/dist-packages/google/colab/_variable_inspector.py:27: UserWarning: device_allocation in out-of-thread context could not be cleaned up\n",
            "  globals().clear()\n"
          ]
        },
        {
          "output_type": "display_data",
          "data": {
            "text/plain": [
              "<Figure size 1200x750 with 1 Axes>"
            ],
            "image/png": "[encoded data removed]"
          },
          "metadata": {}
        }
      ]
    },
    {
      "cell_type": "code",
      "source": [],
      "metadata": {
        "id": "Z5VLbGv3vTLK"
      },
      "execution_count": null,
      "outputs": []
    }
  ]
}